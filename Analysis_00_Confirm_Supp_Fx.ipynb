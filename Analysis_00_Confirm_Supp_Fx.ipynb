{
 "cells": [
  {
   "cell_type": "markdown",
   "metadata": {},
   "source": [
    "## Confirm Implementation of Random/Fixed Effects with Example from Borenstein, 2009.\n",
    "M. Borenstein, L. V. Hedges, J.P.T. Higgins, H.R. Rothstein, Introduction to Meta-Analysis, John Wiley & Sons, Ltd, Chichester, UK, 2009. https://doi.org/10.1002/9780470743386"
   ]
  },
  {
   "cell_type": "markdown",
   "metadata": {},
   "source": [
    "#### Imports"
   ]
  },
  {
   "cell_type": "code",
   "execution_count": 1,
   "metadata": {},
   "outputs": [],
   "source": [
    "\n",
    "from pandas.core.common import SettingWithCopyWarning\n",
    "from IPython.display import display, Math, Latex\n",
    "import matplotlib.patches as mpatches                                                       # Figure Legends\n",
    "import matplotlib.pyplot as plt \n",
    "import scipy.stats as stats\n",
    "import pandas as pd\n",
    "import numpy as np\n",
    "import time as t0\n",
    "import warnings\n",
    "import copy\n",
    "\n",
    "warnings.simplefilter(action=\"ignore\", category=SettingWithCopyWarning)\n",
    "\n",
    "np.set_printoptions(threshold=np.inf, precision=3, linewidth=300, suppress=True)\n",
    "np.seterr(divide='ignore', invalid='ignore')\n",
    "pd.set_option('display.width'      , 1000, \n",
    "              'expand_frame_repr'  , False,\n",
    "              'display.max_rows'   , 999,\n",
    "              'display.max_columns', 999)\n",
    "\n",
    "plt.rcParams[\"font.family\" ] = \"Myriad Pro\"\n",
    "plt.rcParams[\"pdf.fonttype\"] = 42\n"
   ]
  },
  {
   "cell_type": "markdown",
   "metadata": {},
   "source": [
    "#### Meta-Functions"
   ]
  },
  {
   "cell_type": "code",
   "execution_count": 2,
   "metadata": {},
   "outputs": [],
   "source": [
    "from supp_functions import *"
   ]
  },
  {
   "cell_type": "markdown",
   "metadata": {},
   "source": [
    "#### Example 1"
   ]
  },
  {
   "cell_type": "code",
   "execution_count": 3,
   "metadata": {},
   "outputs": [
    {
     "name": "stdout",
     "output_type": "stream",
     "text": [
      "         Fixed Effect   Random Effect\n",
      "M    :     100.5875        100.1012\n",
      "CI-Lw:      99.6075         98.5423\n",
      "CI-Hg:     101.5675        101.6602\n",
      "Var  :       0.2500          0.6327\n",
      "SE   :       0.5000          0.7954\n",
      "Z    :     201.1750        125.8508\n",
      "Q    :                      8.4344\n",
      "p1way:       0.0000          0.0000\n",
      "p2way:       0.0000          0.0000\n"
     ]
    }
   ],
   "source": [
    "df_test = pd.DataFrame({'Study'     : ['A'   , 'B'   , 'C'   , 'D'   , 'E'   ],\n",
    "                        'Hedge\\'s G': [ 99.10, 101.20, 101.80,  98.10,  99.10],\n",
    "                        'Variance'  : [  2.00,   2.00,   0.50,   2.00,   2.00]})\n",
    "\n",
    "df_test['Final_Weight'] = 1/df_test.Variance\n",
    "\n",
    "Fixed_Effect     = fixed_effect( df_test, Tcol='Hedge\\'s G', Wcol='Final_Weight')\n",
    "Random_Effect    = random_effect(df_test, Tcol='Hedge\\'s G', Wcol='Final_Weight')\n",
    "\n",
    "print('         Fixed Effect   Random Effect')\n",
    "print('M    :     {:8.4f}        {:8.4f}'.format(Fixed_Effect['M'      ], Random_Effect['M'      ]))\n",
    "print('CI-Lw:     {:8.4f}        {:8.4f}'.format(Fixed_Effect['Low'    ], Random_Effect['Low'    ]))\n",
    "print('CI-Hg:     {:8.4f}        {:8.4f}'.format(Fixed_Effect['Hgh'    ], Random_Effect['Hgh'    ]))\n",
    "print('Var  :     {:8.4f}        {:8.4f}'.format(Fixed_Effect['Var'    ], Random_Effect['Var'    ]))\n",
    "print('SE   :     {:8.4f}        {:8.4f}'.format(Fixed_Effect['SE'     ], Random_Effect['SE'     ]))\n",
    "print('Z    :     {:8.4f}        {:8.4f}'.format(Fixed_Effect['Z'      ], Random_Effect['Z'      ]))\n",
    "print('Q    :                    {:8.4f}'.format(                         Random_Effect['Q'      ]))\n",
    "print('p1way:     {:8.4f}        {:8.4f}'.format(Fixed_Effect['P-1Tail'], Random_Effect['P-1Tail']))\n",
    "print('p2way:     {:8.4f}        {:8.4f}'.format(Fixed_Effect['P-2Tail'], Random_Effect['P-2Tail']))\n"
   ]
  },
  {
   "cell_type": "markdown",
   "metadata": {},
   "source": [
    "#### Example 2"
   ]
  },
  {
   "cell_type": "code",
   "execution_count": 9,
   "metadata": {},
   "outputs": [
    {
     "name": "stdout",
     "output_type": "stream",
     "text": [
      "         Fixed Effect   Random Effect\n",
      "M    :       0.4093          0.3577\n",
      "CI-Lw:       0.2828          0.1528\n",
      "CI-Hg:       0.5357          0.5626\n",
      "Var  :       0.0042          0.0109\n",
      "SE   :       0.0645          0.1045\n",
      "Z    :       6.3429          3.4216\n",
      "Q    :                      11.7433\n",
      "p1way:       0.0000          0.0003\n",
      "p2way:       0.0000          0.0006\n"
     ]
    }
   ],
   "source": [
    "df_test = pd.DataFrame({'Study'     : ['Caroll', 'Grant', 'Peck', 'Donat', 'Stewart', 'Young'],\n",
    "                        'Hedge\\'s G': [.095    , .277   , .367  , .664   , .462     , .185   ],\n",
    "                        'Variance'  : [.033    , .031   , .050  , .011   , .043     , .023   ]})\n",
    "\n",
    "df_test['Final_Weight'] = 1/df_test.Variance\n",
    "\n",
    "Fixed_Effect     = fixed_effect( df_test, Tcol='Hedge\\'s G', Wcol='Final_Weight')\n",
    "Random_Effect    = random_effect(df_test, Tcol='Hedge\\'s G', Wcol='Final_Weight')\n",
    "\n",
    "print('         Fixed Effect   Random Effect')\n",
    "print('M    :     {:8.4f}        {:8.4f}'.format(Fixed_Effect['M'      ], Random_Effect['M'      ]))\n",
    "print('CI-Lw:     {:8.4f}        {:8.4f}'.format(Fixed_Effect['Low'    ], Random_Effect['Low'    ]))\n",
    "print('CI-Hg:     {:8.4f}        {:8.4f}'.format(Fixed_Effect['Hgh'    ], Random_Effect['Hgh'    ]))\n",
    "print('Var  :     {:8.4f}        {:8.4f}'.format(Fixed_Effect['Var'    ], Random_Effect['Var'    ]))\n",
    "print('SE   :     {:8.4f}        {:8.4f}'.format(Fixed_Effect['SE'     ], Random_Effect['SE'     ]))\n",
    "print('Z    :     {:8.4f}        {:8.4f}'.format(Fixed_Effect['Z'      ], Random_Effect['Z'      ]))\n",
    "print('Q    :                    {:9.4f}'.format(                         Random_Effect['Q'      ]))\n",
    "print('p1way:     {:8.4f}        {:8.4f}'.format(Fixed_Effect['P-1Tail'], Random_Effect['P-1Tail']))\n",
    "print('p2way:     {:8.4f}        {:8.4f}'.format(Fixed_Effect['P-2Tail'], Random_Effect['P-2Tail']))\n"
   ]
  },
  {
   "cell_type": "markdown",
   "metadata": {},
   "source": [
    "## Simulation:"
   ]
  },
  {
   "cell_type": "markdown",
   "metadata": {},
   "source": [
    "#### Compare Against Monte Carlo Style:"
   ]
  },
  {
   "cell_type": "code",
   "execution_count": 13,
   "metadata": {},
   "outputs": [],
   "source": [
    "def Monte_Carlo(cmb, n=100):\n",
    "    d_    = np.array([])\n",
    "    \n",
    "    for jj in range(cmb.shape[0]):\n",
    "        a    = np.random.normal(cmb[jj,0], cmb[jj,1], (int(cmb[jj,2] * n)))\n",
    "        d_   = np.concatenate((d_, a), axis=0)\n",
    "\n",
    "    u     = np.mean(d_)\n",
    "    std   = np.std( d_)\n",
    "\n",
    "    return u, std"
   ]
  },
  {
   "cell_type": "code",
   "execution_count": 20,
   "metadata": {},
   "outputs": [
    {
     "name": "stdout",
     "output_type": "stream",
     "text": [
      "\n",
      "Display Results\n",
      "Idx 0:   Fixed Effect   Random Effect   MonteCarlo   True Value\n",
      "Mean :       9.5674         9.5633         9.5904        9.6290\n",
      "Error:       0.0616         0.0657         0.0386\n",
      "  \n",
      "CI-Lw:       9.3147         9.2478         7.3852\n",
      "CI-Hg:       9.8201         9.8787        11.7957\n",
      "Var  :       0.0166         0.0259         1.2659\n",
      "SE/SD:       0.1289         0.1609         1.1251\n",
      "Wgts :      60.1721        38.6168              \n"
     ]
    }
   ],
   "source": [
    "def run_sim(print_vals=True, conf_const=False):\n",
    "    ngrps   = 30\n",
    "    grdtr   = 9.629\n",
    "    const   = 10.0\n",
    "\n",
    "    nmeans  = np.random.uniform(grdtr-1.5, grdtr+1.5, ngrps)\n",
    "    nstds   = np.random.uniform(0.50, 1.00, ngrps)\n",
    "    nsubs   = np.random.randint(   4,   50, ngrps)\n",
    "    \n",
    "    cmb     = np.zeros([ngrps, 3])\n",
    "\n",
    "    for ii in range(ngrps):\n",
    "        s         = np.random.normal(nmeans[ii], nstds[ii], nsubs[ii])\n",
    "        cmb[ii,0] = np.mean(s)\n",
    "        cmb[ii,1] = np.std(s)\n",
    "        cmb[ii,2] = nsubs[ii]\n",
    "        \n",
    "    res       = Monte_Carlo(cmb, n=1000)\n",
    "    u0        = res[0]\n",
    "    std0      = res[1]\n",
    "    ci        = 1.96 * std0\n",
    "    low       = u0 - ci\n",
    "    hgh       = u0 + ci\n",
    "    \n",
    "    df0     = pd.DataFrame({'Mean': nmeans,\n",
    "                            'Std' : nstds,\n",
    "                            'N'   : nsubs,\n",
    "                            'Var' : nstds**2,\n",
    "                            'Wgt' : 1/(nstds**2)})\n",
    "    \n",
    "    nmeans /= const\n",
    "    nstds  /= const\n",
    "    df1     = pd.DataFrame({'Mean': nmeans,\n",
    "                            'Std' : nstds,\n",
    "                            'N'   : nsubs,\n",
    "                            'Var' : nstds**2,\n",
    "                            'Wgt' : 1/(nstds**2)})\n",
    "\n",
    "    fix0    = fixed_effect( df0, Tcol='Mean', Wcol='Wgt')\n",
    "    ran0    = random_effect(df0, Tcol='Mean', Wcol='Wgt')\n",
    "    \n",
    "    fix1    = fixed_effect( df1, Tcol='Mean', Wcol='Wgt')\n",
    "    ran1    = random_effect(df1, Tcol='Mean', Wcol='Wgt')\n",
    "    \n",
    "    grdtr_  = 9.629 / const\n",
    "    \n",
    "    if print_vals == True:\n",
    "        print('\\nDisplay Results')\n",
    "        print('Idx 0:   Fixed Effect   Random Effect   MonteCarlo   True Value')\n",
    "        print('Mean :     {:8.4f}       {:8.4f}       {:8.4f}       {:7.4f}'.format(fix0['M'], ran0['M'], u0, grdtr))\n",
    "        print('Error:     {:8.4f}       {:8.4f}       {:8.4f}'.format(np.abs(fix0['M']-grdtr), np.abs(ran0['M']-grdtr), np.abs(u0-grdtr)))\n",
    "        print('  ')\n",
    "        print('CI-Lw:     {:8.4f}       {:8.4f}       {:8.4f}'.format(fix0['Low'   ], ran0['Low'   ], low))\n",
    "        print('CI-Hg:     {:8.4f}       {:8.4f}       {:8.4f}'.format(fix0['Hgh'   ], ran0['Hgh'   ], hgh))\n",
    "        print('Var  :     {:8.4f}       {:8.4f}       {:8.4f}'.format(fix0['Var'   ], ran0['Var'   ], std0**2))\n",
    "        print('SE/SD:     {:8.4f}       {:8.4f}       {:8.4f}'.format(fix0['SE'    ], ran0['SE'    ], std0))\n",
    "        print('Wgts :     {:8.4f}       {:8.4f}              '.format(fix0['Weight'], ran0['Weight']))\n",
    "\n",
    "    if conf_const == True:\n",
    "        fix1  = fixed_effect( df1, Tcol='Mean', Wcol='Wgt')\n",
    "        ran1  = random_effect(df1, Tcol='Mean', Wcol='Wgt')\n",
    "\n",
    "        print('\\n\\nConfirm that results are equivalent if scaled by a constant')\n",
    "\n",
    "        print('Idx 1:   Fixed Effect   Random Effect   MonteCarlo')\n",
    "        print('Mean :     {:8.4f}       {:8.4f}     '.format(fix1['M'] * const, ran1['M'] * const, u0 ))\n",
    "        print('Error:     {:8.4f}       {:8.4f}     '.format(np.abs(fix1['M'] * const-grdtr), np.abs(ran1['M'] * const-grdtr)))\n",
    "        print('  ')\n",
    "        print('CI-Lw:     {:8.4f}       {:8.4f}     '.format(fix1['Low'   ] * const, ran1['Low'   ] * const))\n",
    "        print('CI-Hg:     {:8.4f}       {:8.4f}     '.format(fix1['Hgh'   ] * const, ran1['Hgh'   ] * const))\n",
    "        print('Var  :     {:8.4f}       {:8.4f}     '.format(fix1['Var'   ] * const, ran1['Var'   ] * const))\n",
    "        print('SE/SD:     {:8.4f}       {:8.4f}     '.format(fix1['SE'    ] * const, ran1['SE'    ] * const))\n",
    "        print('Wgts :     {:8.4f}       {:8.4f}     '.format(fix1['Weight'] * const, ran1['Weight'] * const))\n",
    "\n",
    "run_sim()"
   ]
  },
  {
   "cell_type": "code",
   "execution_count": null,
   "metadata": {},
   "outputs": [],
   "source": []
  }
 ],
 "metadata": {
  "kernelspec": {
   "display_name": "Python 3",
   "language": "python",
   "name": "python3"
  },
  "language_info": {
   "codemirror_mode": {
    "name": "ipython",
    "version": 3
   },
   "file_extension": ".py",
   "mimetype": "text/x-python",
   "name": "python",
   "nbconvert_exporter": "python",
   "pygments_lexer": "ipython3",
   "version": "3.8.5"
  }
 },
 "nbformat": 4,
 "nbformat_minor": 4
}
